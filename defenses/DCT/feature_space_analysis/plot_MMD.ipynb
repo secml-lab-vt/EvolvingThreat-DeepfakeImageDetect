{
 "cells": [
  {
   "attachments": {},
   "cell_type": "markdown",
   "metadata": {
    "collapsed": false
   },
   "source": [
    "# Plot MMD distances in feature space"
   ]
  },
  {
   "cell_type": "code",
   "execution_count": null,
   "metadata": {},
   "outputs": [],
   "source": [
    "WORKDIR = \"path/to/WORKDIR/\"  # specify WORKDIR here"
   ]
  },
  {
   "cell_type": "code",
   "execution_count": null,
   "metadata": {
    "collapsed": false
   },
   "outputs": [],
   "source": [
    "from src.paper_utils import get_figsize, configure_matplotlib"
   ]
  },
  {
   "cell_type": "code",
   "execution_count": null,
   "metadata": {
    "collapsed": false
   },
   "outputs": [],
   "source": [
    "configure_matplotlib(\n",
    "    rc={\n",
    "        \"xtick.labelbottom\": False,\n",
    "        \"xtick.bottom\": True,\n",
    "        \"xtick.labeltop\": True,\n",
    "        \"ytick.left\": True,\n",
    "        \"ytick.right\": False,\n",
    "        \"figure.constrained_layout.use\": False,\n",
    "        \"savefig.pad_inches\": 0.01,\n",
    "    }\n",
    ")"
   ]
  },
  {
   "cell_type": "code",
   "execution_count": null,
   "metadata": {
    "collapsed": false
   },
   "outputs": [],
   "source": [
    "import pickle\n",
    "\n",
    "experiments = [ \"gragnaniello2021/progan\", \"gragnaniello2021/stylegan2\",\n",
    "                \"wang2020/blur_jpg_prob0.1\", \"wang2020/blur_jpg_prob0.5\",\n",
    "                \"wang2020/finetuning_All\", \"wang2020/finetuning_GAN\", \"wang2020/finetuning_DM\",\n",
    "                \"wang2020/scratch_All\", \"wang2020/scratch_GAN\", \"wang2020/scratch_DM\"]\n",
    "\n",
    "all_mmds = {}\n",
    "for experiment in experiments:\n",
    "    # adapt if applicable\n",
    "    base_input_folder = f\"{WORKDIR}/output/features/{experiment}\"\n",
    "    with open(base_input_folder + \"/mmds_GAN.pkl\", \"rb\") as input_file:\n",
    "        mmds_GANs = pickle.load(input_file)\n",
    "    with open(base_input_folder + \"/mmds_DM.pkl\", \"rb\") as input_file:\n",
    "        mmds_DMs = pickle.load(input_file)\n",
    "\n",
    "    all_mmds[f'{experiment}'] = {'mmds_DMs': mmds_DMs,\n",
    "                                 'mmds_GANs': mmds_GANs}"
   ]
  },
  {
   "cell_type": "code",
   "execution_count": null,
   "metadata": {
    "collapsed": false
   },
   "outputs": [],
   "source": [
    "import matplotlib.pyplot as plt\n",
    "import numpy as np\n",
    "\n",
    "# Specify title in the plots\n",
    "detectors = {'gragnaniello2021/progan': 'Gragnaniello2021' + r'\\vspace{-0.5em} \\tiny{(ProGAN)}',\n",
    "             'gragnaniello2021/stylegan2': 'Gragnaniello2021' + r'\\vspace{-0.5em} \\tiny{(StyleGAN2)}',\n",
    "             'wang2020/blur_jpg_prob0.1': 'Wang2020' + r'\\vspace{-0.5em} \\tiny{(Blur+JPEG (0.1))}',\n",
    "             'wang2020/blur_jpg_prob0.5': 'Wang2020' + r'\\vspace{-0.5em} \\tiny{(Blur+JPEG (0.5))}',\n",
    "             'wang2020/finetuning_All': 'Wang2020' + r'\\vspace{-0.5em} \\tiny{(fine-tuned on \\textbf{All})}',\n",
    "             'wang2020/finetuning_GAN': 'Wang2020' + r'\\vspace{-0.5em} \\tiny{(fine-tuned on \\textbf{GANs})}',\n",
    "             'wang2020/finetuning_DM':  'Wang2020' + r'\\vspace{-0.5em} \\tiny{(fine-tuned on \\textbf{DMs})}',\n",
    "             'wang2020/scratch_All': 'Wang2020' + r'\\vspace{-0.5em} \\tiny{(trained on \\textbf{All})}',\n",
    "             'wang2020/scratch_GAN': 'Wang2020' + r'\\vspace{-0.5em} \\tiny{(trained on \\textbf{GANs})}',\n",
    "             'wang2020/scratch_DM':  'Wang2020' + r'\\vspace{-0.5em} \\tiny{(trained on \\textbf{DMs})}'\n",
    "}\n",
    "\n",
    "fig, axd = plt.subplot_mosaic(\n",
    "    \"\"\"\n",
    "    0123\n",
    "    456.\n",
    "    789.\n",
    "    \"\"\",\n",
    "    # set the height ratios between the rows\n",
    "    height_ratios=[1, 1, 1],\n",
    "    # set the width ratios between the columns\n",
    "    width_ratios=[1, 1, 1, 1],\n",
    "    constrained_layout=False,\n",
    "    figsize=get_figsize(ratio=0.8),\n",
    "    sharey=False,\n",
    "    sharex=False\n",
    ")\n",
    "\n",
    "cm = plt.get_cmap('coolwarm')\n",
    "\n",
    "# set global style for the axes\n",
    "DM_x_center = 0.1\n",
    "GAN_x_center = -0.1\n",
    "my_xticks_pos = np.array([GAN_x_center, DM_x_center])\n",
    "my_xticks = ['GANs','DMs']\n",
    "\n",
    "desired_order_list = [\"ProGAN\", \"StyleGAN\", \"ProjectedGAN\", \"Diff-StyleGAN2\", \"Diff-ProjectedGAN\",\n",
    "                      \"DDPM\", \"IDDPM\", \"ADM\", \"PNDM\", \"LDM\"]\n",
    "\n",
    "counter = 0\n",
    "for detector, name in detectors.items():\n",
    "    ax = axd[str(counter)]\n",
    "\n",
    "    ax.set_title(name,  loc=\"center\")\n",
    "\n",
    "    mmds = all_mmds[detector]\n",
    "    mmds_DM = mmds['mmds_DMs']\n",
    "    mmds_GANs = mmds['mmds_GANs']\n",
    "    # plot DM values\n",
    "    for DM, MMD_DM in mmds_DM.items():\n",
    "        ax.scatter(DM_x_center , MMD_DM, label=f'{DM}', alpha=0.9, zorder=4, color=cm((10 - desired_order_list.index(DM) + 5 )/ 10))\n",
    "    # plot GAN values\n",
    "    for GAN, MMD_GAN in mmds_GANs.items():\n",
    "        ax.scatter(GAN_x_center, MMD_GAN, label=f'{GAN}', alpha=0.9, zorder=4, color=cm(desired_order_list.index(GAN) / 10))\n",
    "\n",
    "    axd[str(counter)].set_xlim(left=GAN_x_center * 2., right=DM_x_center * 2.)\n",
    "\n",
    "    if counter == 0:  # uncomment if latex is installed and enabled in rcparams\n",
    "        #ax.set_ylabel(r'$\\mathrm{MMD}\\big(f(X_\\mathrm{real}), f(X_\\mathrm{model})\\big)$')\n",
    "        ax.annotate(r\"pre-trained\", xy=(0, 0.5), xytext=(-ax.yaxis.labelpad - 5, 0),\n",
    "            xycoords=ax.yaxis.label, textcoords='offset points',\n",
    "            size='large', ha='right', va='center', rotation=90)\n",
    "    if counter == 4:\n",
    "        #ax.set_ylabel(r'$\\mathrm{MMD}\\big(f(X_\\mathrm{real}), f(X_\\mathrm{model})\\big)$')\n",
    "        ax.annotate(r\"fine-tuned\", xy=(0, 0.5), xytext=(-ax.yaxis.labelpad - 5, 0),\n",
    "            xycoords=ax.yaxis.label, textcoords='offset points',\n",
    "            size='large', ha='right', va='center', rotation=90)\n",
    "    if counter == 7:\n",
    "        #ax.set_ylabel(r'$\\mathrm{MMD}\\big(f(X_\\mathrm{real}), f(X_\\mathrm{model})\\big)$')\n",
    "        ax.annotate(r\"trained from scratch\", xy=(0, 0.5), xytext=(-ax.yaxis.labelpad - 5, 0),\n",
    "            xycoords=ax.yaxis.label, textcoords='offset points',\n",
    "            size='large', ha='right', va='center', rotation=90)\n",
    "    if counter <= 3:\n",
    "        axd[str(counter)].set_ylim(bottom=0.0, top=0.8)\n",
    "        ax.set_xticks(my_xticks_pos)\n",
    "        ax.set_xticklabels(my_xticks)\n",
    "    elif counter in [4,5,6] :\n",
    "        axd[str(counter)].set_ylim(bottom=0.0, top=1.2)\n",
    "        ax.set_xticks(my_xticks_pos)\n",
    "        ax.set_xticklabels(my_xticks)\n",
    "    else:\n",
    "        axd[str(counter)].set_ylim(bottom=0.0, top=1.3)\n",
    "        ax.set_xticks(my_xticks_pos)\n",
    "        ax.set_xticklabels(my_xticks)\n",
    "\n",
    "\n",
    "    counter += 1\n",
    "handles, labels = fig.gca().get_legend_handles_labels()\n",
    "\n",
    "by_label = dict(zip(labels, handles))\n",
    "reordered_dict = {k: by_label[k] for k in desired_order_list}\n",
    "fig.legend(reordered_dict.values(), reordered_dict.keys(), ncol=2, borderpad=0.7,\n",
    "           bbox_to_anchor=(1.01, 0.55), labelspacing = 0.8, columnspacing=0.8)\n",
    "#plt.savefig(\"MMD.pdf\")\n",
    "plt.show()"
   ]
  }
 ],
 "metadata": {
  "accelerator": "GPU",
  "colab": {
   "collapsed_sections": [],
   "provenance": []
  },
  "gpuClass": "standard",
  "kernelspec": {
   "display_name": ".venv",
   "language": "python",
   "name": "python3"
  },
  "language_info": {
   "codemirror_mode": {
    "name": "ipython",
    "version": 3
   },
   "file_extension": ".py",
   "mimetype": "text/x-python",
   "name": "python",
   "nbconvert_exporter": "python",
   "pygments_lexer": "ipython3",
   "version": "3.8.16"
  },
  "vscode": {
   "interpreter": {
    "hash": "4225d0debf0bf8951841dee0a3187de790889701f15cf4cff14352ec807aab4c"
   }
  }
 },
 "nbformat": 4,
 "nbformat_minor": 0
}
