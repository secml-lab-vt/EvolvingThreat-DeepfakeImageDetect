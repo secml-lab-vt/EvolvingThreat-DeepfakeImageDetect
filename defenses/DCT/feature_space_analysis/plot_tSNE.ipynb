{
 "cells": [
  {
   "cell_type": "code",
   "execution_count": null,
   "metadata": {},
   "outputs": [],
   "source": [
    "WORKDIR = \"path/to/WORKDIR/\"  # specify WORKDIR here"
   ]
  },
  {
   "cell_type": "code",
   "execution_count": null,
   "metadata": {
    "collapsed": false
   },
   "outputs": [],
   "source": [
    "import matplotlib.pyplot as plt\n",
    "from src.paper_utils import get_figsize, configure_matplotlib"
   ]
  },
  {
   "cell_type": "code",
   "execution_count": null,
   "metadata": {
    "collapsed": false
   },
   "outputs": [],
   "source": [
    "configure_matplotlib(\n",
    "    rc={\n",
    "        \"xtick.labelbottom\": False,\n",
    "        \"xtick.bottom\": True,\n",
    "        \"xtick.labeltop\": True,\n",
    "        \"ytick.left\": True,\n",
    "        \"figure.constrained_layout.use\": False,\n",
    "        \"savefig.pad_inches\": 0.01,\n",
    "    }\n",
    ")"
   ]
  },
  {
   "cell_type": "code",
   "execution_count": null,
   "metadata": {
    "collapsed": false
   },
   "outputs": [],
   "source": [
    "from sklearn.manifold import TSNE\n",
    "import numpy as np\n",
    "from tqdm import tqdm"
   ]
  },
  {
   "cell_type": "code",
   "execution_count": null,
   "metadata": {
    "collapsed": false
   },
   "outputs": [],
   "source": [
    "experiments = [ \"gragnaniello2021/progan\", \"gragnaniello2021/stylegan2\",\n",
    "                \"wang2020/blur_jpg_prob0.1\", \"wang2020/blur_jpg_prob0.5\",\n",
    "                \"wang2020/finetuning_All\", \"wang2020/finetuning_GAN\", \"wang2020/finetuning_DM\",\n",
    "                \"wang2020/scratch_All\", \"wang2020/scratch_GAN\", \"wang2020/scratch_DM\"]\n",
    "n_total = 10000       # use all 10k images"
   ]
  },
  {
   "cell_type": "code",
   "execution_count": null,
   "metadata": {
    "collapsed": false
   },
   "outputs": [],
   "source": [
    "for experiment in tqdm(experiments):\n",
    "    base_input_folder = f\"{WORKDIR}/output/features/{experiment}\"\n",
    "\n",
    "    # load feature representations\n",
    "    X_real = np.load(base_input_folder + f'/features_Real.npy')[:n_total]\n",
    "\n",
    "    X_DDPM = np.load(base_input_folder + f'/features_DDPM.npy')[:n_total]\n",
    "    X_IDDPM = np.load(base_input_folder + f'/features_IDDPM.npy')[:n_total]\n",
    "    X_ADM = np.load(base_input_folder + f'/features_ADM.npy')[:n_total]\n",
    "    X_PNDM = np.load(base_input_folder + f'/features_PNDM.npy')[:n_total]\n",
    "    X_LDM = np.load(base_input_folder + f'/features_LDM.npy')[:n_total]\n",
    "\n",
    "    X_ProGAN = np.load(base_input_folder + f'/features_ProGAN.npy')[:n_total]\n",
    "    X_StyleGAN = np.load(base_input_folder + f'/features_StyleGAN.npy')[:n_total]\n",
    "    X_ProjectedGAN = np.load(base_input_folder + f'/features_ProjectedGAN.npy')[:n_total]\n",
    "    X_DiffStyleGAN2 = np.load(base_input_folder + f'/features_Diff-StyleGAN2.npy')[:n_total]\n",
    "    X_DiffProjectedGAN = np.load(base_input_folder + f'/features_Diff-ProjectedGAN.npy')[:n_total]\n",
    "\n",
    "    # concatenate all representations\n",
    "    Xs = np.concatenate([X_real, X_DDPM, X_IDDPM, X_ADM, X_PNDM, X_LDM,\n",
    "                     X_ProGAN, X_StyleGAN, X_ProjectedGAN, X_DiffStyleGAN2, X_DiffProjectedGAN])\n",
    "\n",
    "    Xs_embedded = TSNE(n_components=2, learning_rate='auto', init='random', perplexity=3, verbose=True).fit_transform(Xs)\n",
    "    # save embedding\n",
    "    np.save(base_input_folder + \"/Xs_embedded.npy\", Xs_embedded)"
   ]
  },
  {
   "cell_type": "code",
   "execution_count": null,
   "metadata": {
    "collapsed": false
   },
   "outputs": [],
   "source": [
    "# Visualize the t-SNE embeddings\n",
    "\n",
    "cm = plt.get_cmap('coolwarm')\n",
    "\n",
    "size = 1.5 # size of each marker\n",
    "n_plot = 250  # number of samples to visualize per class\n",
    "alpha = 0.4   # opacity\n",
    "\n",
    "fig, axes = plt.subplot_mosaic(\n",
    "    \"\"\"\n",
    "    0123\n",
    "    456.\n",
    "    789.\n",
    "    \"\"\",\n",
    "    # set the height ratios between the rows\n",
    "    height_ratios=[1, 1, 1],\n",
    "    # set the width ratios between the columns\n",
    "    width_ratios=[1, 1, 1, 1],\n",
    "    constrained_layout=False,\n",
    "    figsize=get_figsize(ratio=0.52),\n",
    "    sharey=False,\n",
    "    sharex=False\n",
    ")\n",
    "\n",
    "titles = [  'Gragnaniello2021' + r'\\vspace{-0.5em} \\tiny{(ProGAN)}',\n",
    "            'Gragnaniello2021' + r'\\vspace{-0.5em} \\tiny{(StyleGAN2)}',\n",
    "            'Wang2020' + r'\\vspace{-0.5em} \\tiny{(Blur+JPEG (0.1))}',\n",
    "            'Wang2020' + r'\\vspace{-0.5em} \\tiny{(Blur+JPEG (0.5))}',\n",
    "            'Wang2020' + r'\\vspace{-0.5em} \\tiny{(fine-tuned on \\textbf{All})}',\n",
    "            'Wang2020' + r'\\vspace{-0.5em} \\tiny{(fine-tuned on \\textbf{GANs})}',\n",
    "            'Wang2020' + r'\\vspace{-0.5em} \\tiny{(fine-tuned on \\textbf{DMs})}',\n",
    "            'Wang2020' + r'\\vspace{-0.5em} \\tiny{(trained on \\textbf{All})}',\n",
    "            'Wang2020' + r'\\vspace{-0.5em} \\tiny{(trained on \\textbf{GANs})}',\n",
    "            'Wang2020' + r'\\vspace{-0.5em} \\tiny{(trained on \\textbf{DMs})}'    ]\n",
    "\n",
    "for i, experiment in enumerate(experiments):\n",
    "\n",
    "    ax = axes[str(i)]\n",
    "\n",
    "    base_input_folder = f\"{WORKDIR}/output/features/{experiment}\"\n",
    "\n",
    "    # load embedded features and extract per model\n",
    "    Xs_embedded = np.load(base_input_folder + \"/Xs_embedded.npy\")\n",
    "\n",
    "    X_real_embedded = Xs_embedded[:n_plot]\n",
    "    X_DDPM_embedded = Xs_embedded[n_total:(n_total + n_plot)]\n",
    "    X_IDDPM_embedded = Xs_embedded[2*n_total:(2*n_total + n_plot)]\n",
    "    X_ADM_embedded = Xs_embedded[3*n_total:(3*n_total + n_plot)]\n",
    "    X_PNDM_embedded = Xs_embedded[4*n_total:(4*n_total + n_plot)]\n",
    "    X_LDM_embedded = Xs_embedded[5*n_total:(5*n_total + n_plot)]\n",
    "\n",
    "    X_ProGAN_embedded = Xs_embedded[6*n_total:(6*n_total + n_plot)]\n",
    "    X_StyleGAN_embedded = Xs_embedded[7*n_total:(7*n_total + n_plot)]\n",
    "    X_ProjectedGAN_embedded = Xs_embedded[8*n_total:(8*n_total + n_plot)]\n",
    "    X_DiffStyleGAN2_embedded = Xs_embedded[9*n_total:(9*n_total + n_plot)]\n",
    "    X_DiffProjectedGAN_embedded = Xs_embedded[10*n_total:(10*n_total + n_plot)]\n",
    "\n",
    "    ax.set_title(titles[i])\n",
    "\n",
    "    # plot DMs\n",
    "    ax.scatter(X_DDPM_embedded[:n_plot,0], X_DDPM_embedded[:n_plot,1], alpha = alpha, s=size, label=\"DDPM\", color=cm(1.0), zorder=4)\n",
    "    ax.scatter(X_IDDPM_embedded[:n_plot,0], X_IDDPM_embedded[:n_plot,1], alpha = alpha, s=size, label=\"IDDPM\", color=cm(0.9),zorder=4)\n",
    "    ax.scatter(X_ADM_embedded[:n_plot,0], X_ADM_embedded[:n_plot,1], alpha = alpha, s=size, label=\"ADM\", color=cm(0.8),zorder=4)\n",
    "    ax.scatter(X_PNDM_embedded[:n_plot,0], X_PNDM_embedded[:n_plot,1], alpha = alpha, s=size, label=\"PNDM\", color=cm(0.7),zorder=4)\n",
    "    ax.scatter(X_LDM_embedded[:n_plot,0], X_LDM_embedded[:n_plot,1], alpha = alpha, s=size, label=\"LDM\", color=cm(0.6),zorder=4)\n",
    "\n",
    "    # plot GANs\n",
    "    ax.scatter(X_ProGAN_embedded[:n_plot,0], X_ProGAN_embedded[:n_plot,1], alpha = alpha, s=size, label=\"ProGAN\", color=cm(0),zorder=4)\n",
    "    ax.scatter(X_StyleGAN_embedded[:n_plot,0], X_StyleGAN_embedded[:n_plot,1], alpha = alpha, s=size, label=\"StyleGAN\", color=cm(0.1),zorder=4)\n",
    "    ax.scatter(X_ProjectedGAN_embedded[:n_plot,0], X_ProjectedGAN_embedded[:n_plot,1], alpha = alpha, s=size, label=\"ProjectedGAN\", color=cm(0.2),zorder=4)\n",
    "    ax.scatter(X_DiffStyleGAN2_embedded[:n_plot,0], X_DiffStyleGAN2_embedded[:n_plot,1], alpha = alpha, s=size, label=\"Diff-StyleGAN2\", color=cm(0.3),zorder=4)\n",
    "    ax.scatter(X_DiffProjectedGAN_embedded[:n_plot,0], X_DiffProjectedGAN_embedded[:n_plot,1], alpha = alpha, s=size, label=\"Diff-ProjectedGAN\", color=cm(0.4),zorder=4)\n",
    "\n",
    "    # plot reals\n",
    "    ax.scatter(X_real_embedded[:n_plot,0], X_real_embedded[:n_plot,1], alpha = alpha, s=size, label=\"Real\", c=\"g\",zorder=4)\n",
    "\n",
    "handles, labels = fig.gca().get_legend_handles_labels()\n",
    "\n",
    "by_label = dict(zip(labels, handles))\n",
    "fig.legend(by_label.values(), by_label.keys(), markerscale=4, ncol=1, borderpad=0.7,\n",
    "           bbox_to_anchor=(0.22, 0.495), labelspacing = 0.8, columnspacing=0.8)\n",
    "# plt.savefig(f\"TSNE.pdf\")\n",
    "plt.show()"
   ]
  }
 ],
 "metadata": {
  "kernelspec": {
   "display_name": ".venv",
   "language": "python",
   "name": "python3"
  },
  "language_info": {
   "codemirror_mode": {
    "name": "ipython",
    "version": 3
   },
   "file_extension": ".py",
   "mimetype": "text/x-python",
   "name": "python",
   "nbconvert_exporter": "python",
   "pygments_lexer": "ipython3",
   "version": "3.8.16"
  },
  "vscode": {
   "interpreter": {
    "hash": "4225d0debf0bf8951841dee0a3187de790889701f15cf4cff14352ec807aab4c"
   }
  }
 },
 "nbformat": 4,
 "nbformat_minor": 0
}
