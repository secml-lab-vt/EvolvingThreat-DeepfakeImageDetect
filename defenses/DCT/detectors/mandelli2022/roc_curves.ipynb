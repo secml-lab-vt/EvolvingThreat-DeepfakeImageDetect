{
 "cells": [
  {
   "cell_type": "markdown",
   "metadata": {},
   "source": [
    "# ROC Curves related to StyleGAN3 generated image detection"
   ]
  },
  {
   "cell_type": "code",
   "execution_count": null,
   "metadata": {},
   "outputs": [],
   "source": [
    "# download and unzip pkls with results\n",
    "!wget https://www.dropbox.com/s/h19xrb3v77llxoe/results.zip?dl=0 --output-document results.zip\n",
    "!unzip results.zip"
   ]
  },
  {
   "cell_type": "code",
   "execution_count": 4,
   "metadata": {},
   "outputs": [],
   "source": [
    "import os\n",
    "import pandas as pd\n",
    "import numpy as np\n",
    "from sklearn.metrics import roc_curve, roc_auc_score"
   ]
  },
  {
   "cell_type": "code",
   "execution_count": 5,
   "metadata": {},
   "outputs": [],
   "source": [
    "import matplotlib as mpl\n",
    "mpl.use(\"pgf\")\n",
    "pgf_with_rc_fonts = {\n",
    "    \"font.family\": \"serif\",\n",
    "    \"font.serif\": [],                   # use latex default serif font\n",
    "    \"font.sans-serif\": [\"DejaVu Sans\"], # use a specific sans-serif font\n",
    "}\n",
    "mpl.rcParams.update(pgf_with_rc_fonts)\n",
    "\n",
    "import matplotlib.pyplot as plt\n",
    "fontsize = 18\n",
    "plt.rc('text', usetex=True)\n",
    "plt.rc('font', family='sans',size=fontsize)\n",
    "plt.rc('legend',fontsize=fontsize)\n",
    "plt.rc('xtick',labelsize=fontsize)\n",
    "plt.rc('ytick',labelsize=fontsize)\n",
    "plt.rc('axes',labelsize=fontsize,titlesize=fontsize)\n",
    "plt.rc('lines',linewidth=2)\n",
    "%matplotlib inline"
   ]
  },
  {
   "cell_type": "code",
   "execution_count": 6,
   "metadata": {},
   "outputs": [],
   "source": [
    "def scores_voting(row):\n",
    "    scores_vot = row['scores'][:, row['maj_voting']]\n",
    "    return scores_vot"
   ]
  },
  {
   "cell_type": "code",
   "execution_count": 7,
   "metadata": {},
   "outputs": [],
   "source": [
    "def max_scores_voting(row):\n",
    "    max_score_vot = np.nanmax(row['scores_maj_voting']) if row['maj_voting'] == 1 else -np.nanmax(row['scores_maj_voting'])\n",
    "    return max_score_vot"
   ]
  },
  {
   "cell_type": "code",
   "execution_count": 8,
   "metadata": {},
   "outputs": [],
   "source": [
    "def scores_fusion(row):\n",
    "    fused_score = np.mean([row['image_score_A'], row['image_score_B'], row['image_score_C'], row['image_score_D'], row['image_score_E']])\n",
    "    return fused_score"
   ]
  },
  {
   "cell_type": "code",
   "execution_count": 9,
   "metadata": {},
   "outputs": [],
   "source": [
    "def plot_roc_auc(y_true, y_pred):\n",
    "    auc = roc_auc_score(y_true, y_pred)\n",
    "    print(f'AUC: {auc}')\n",
    "    fpr, tpr, thr = roc_curve(y_true, y_pred)\n",
    "    \n",
    "    plt.figure(figsize=(6,6))\n",
    "    ax = plt.gca()\n",
    "    ax.plot(fpr, tpr, label=f'AUC: {auc:.6f}')\n",
    "    plt.xlabel('$\\mathrm{FPR}$')\n",
    "    plt.ylabel('$\\mathrm{TPR}$')\n",
    "    plt.xlim(-0.01, 1.01);\n",
    "    plt.ylim(-0.01, 1.01);\n",
    "    plt.legend(loc='lower right')\n",
    "    plt.grid();"
   ]
  },
  {
   "cell_type": "markdown",
   "metadata": {},
   "source": [
    "# Train method A"
   ]
  },
  {
   "cell_type": "code",
   "execution_count": 7,
   "metadata": {},
   "outputs": [],
   "source": [
    "df_cnn_images_A = pd.read_pickle('results/method_A.pkl')"
   ]
  },
  {
   "cell_type": "code",
   "execution_count": 8,
   "metadata": {},
   "outputs": [],
   "source": [
    "df_cnn_images_A['hard_predictions'] = df_cnn_images_A['scores'].apply(np.argmax, axis=1)\n",
    "df_cnn_images_A['maj_voting'] = df_cnn_images_A['hard_predictions'].map(np.any).astype(int)\n",
    "df_cnn_images_A['scores_maj_voting'] = df_cnn_images_A.apply(scores_voting, axis=1)\n",
    "df_cnn_images_A['image_score'] = df_cnn_images_A.apply(max_scores_voting, axis=1)"
   ]
  },
  {
   "cell_type": "markdown",
   "metadata": {},
   "source": [
    "# Train method B"
   ]
  },
  {
   "cell_type": "code",
   "execution_count": 9,
   "metadata": {},
   "outputs": [],
   "source": [
    "df_cnn_images_B = pd.read_pickle('results/method_B.pkl')"
   ]
  },
  {
   "cell_type": "code",
   "execution_count": 10,
   "metadata": {},
   "outputs": [],
   "source": [
    "df_cnn_images_B['hard_predictions'] = df_cnn_images_B['scores'].apply(np.argmax, axis=1)\n",
    "df_cnn_images_B['maj_voting'] = df_cnn_images_B['hard_predictions'].map(np.any).astype(int)\n",
    "df_cnn_images_B['scores_maj_voting'] = df_cnn_images_B.apply(scores_voting, axis=1)\n",
    "df_cnn_images_B['image_score'] = df_cnn_images_B.apply(max_scores_voting, axis=1)"
   ]
  },
  {
   "cell_type": "markdown",
   "metadata": {},
   "source": [
    "# Train method C"
   ]
  },
  {
   "cell_type": "code",
   "execution_count": 11,
   "metadata": {},
   "outputs": [],
   "source": [
    "df_cnn_images_C = pd.read_pickle('results/method_C.pkl')"
   ]
  },
  {
   "cell_type": "code",
   "execution_count": 12,
   "metadata": {},
   "outputs": [],
   "source": [
    "df_cnn_images_C['hard_predictions'] = df_cnn_images_C['scores'].apply(np.argmax, axis=1)\n",
    "df_cnn_images_C['maj_voting'] = df_cnn_images_C['hard_predictions'].map(np.any).astype(int)\n",
    "df_cnn_images_C['scores_maj_voting'] = df_cnn_images_C.apply(scores_voting, axis=1)\n",
    "df_cnn_images_C['image_score'] = df_cnn_images_C.apply(max_scores_voting, axis=1)"
   ]
  },
  {
   "cell_type": "markdown",
   "metadata": {},
   "source": [
    "# Train method D"
   ]
  },
  {
   "cell_type": "code",
   "execution_count": 13,
   "metadata": {},
   "outputs": [],
   "source": [
    "df_cnn_images_D = pd.read_pickle('results/method_D.pkl')"
   ]
  },
  {
   "cell_type": "code",
   "execution_count": 14,
   "metadata": {},
   "outputs": [],
   "source": [
    "df_cnn_images_D['hard_predictions'] = df_cnn_images_D['scores'].apply(np.argmax, axis=1)\n",
    "df_cnn_images_D['maj_voting'] = df_cnn_images_D['hard_predictions'].map(np.any).astype(int)\n",
    "df_cnn_images_D['scores_maj_voting'] = df_cnn_images_D.apply(scores_voting, axis=1)\n",
    "df_cnn_images_D['image_score'] = df_cnn_images_D.apply(max_scores_voting, axis=1)"
   ]
  },
  {
   "cell_type": "markdown",
   "metadata": {},
   "source": [
    "# Train method E"
   ]
  },
  {
   "cell_type": "code",
   "execution_count": 15,
   "metadata": {},
   "outputs": [],
   "source": [
    "df_cnn_images_E = pd.read_pickle('results/method_E.pkl')"
   ]
  },
  {
   "cell_type": "code",
   "execution_count": 16,
   "metadata": {},
   "outputs": [],
   "source": [
    "df_cnn_images_E['hard_predictions'] = df_cnn_images_E['scores'].apply(np.argmax, axis=1)\n",
    "df_cnn_images_E['maj_voting'] = df_cnn_images_E['hard_predictions'].map(np.any).astype(int)\n",
    "df_cnn_images_E['scores_maj_voting'] = df_cnn_images_E.apply(scores_voting, axis=1)\n",
    "df_cnn_images_E['image_score'] = df_cnn_images_E.apply(max_scores_voting, axis=1)"
   ]
  },
  {
   "cell_type": "markdown",
   "metadata": {},
   "source": [
    "# Fusion"
   ]
  },
  {
   "cell_type": "code",
   "execution_count": 17,
   "metadata": {},
   "outputs": [],
   "source": [
    "df_cnn_images_fus = df_cnn_images_A.rename(columns={'image_score': 'image_score_A'})\n",
    "df_cnn_images_fus['image_score_B'] = df_cnn_images_B['image_score']\n",
    "df_cnn_images_fus['image_score_C'] = df_cnn_images_C['image_score']\n",
    "df_cnn_images_fus['image_score_D'] = df_cnn_images_D['image_score']\n",
    "df_cnn_images_fus['image_score_E'] = df_cnn_images_E['image_score']\n",
    "\n",
    "df_cnn_images_fus['fused_scores'] = df_cnn_images_fus.apply(scores_fusion, axis=1)"
   ]
  },
  {
   "cell_type": "markdown",
   "metadata": {},
   "source": [
    "# ROC 1) afhq-v2-test vs alias_free_r_afhqv2"
   ]
  },
  {
   "cell_type": "code",
   "execution_count": 18,
   "metadata": {},
   "outputs": [],
   "source": [
    "test_synth_folder = 'alias-free-r-afhqv2-512x512'\n",
    "test_real_folder = 'afhq-v2-test'"
   ]
  },
  {
   "cell_type": "code",
   "execution_count": 19,
   "metadata": {},
   "outputs": [],
   "source": [
    "df_cnn_images_test_synth = df_cnn_images_fus[df_cnn_images_fus['image'].str.contains(test_synth_folder)] \n",
    "df_cnn_images_test_real = df_cnn_images_fus[df_cnn_images_fus['image'].str.contains(test_real_folder)]  \n",
    "df_cnn_images_test = pd.concat([df_cnn_images_test_synth, df_cnn_images_test_real]).reset_index().drop('index', axis=1)\n",
    "df_cnn_images_test_1 = df_cnn_images_test.copy()"
   ]
  },
  {
   "cell_type": "code",
   "execution_count": 20,
   "metadata": {},
   "outputs": [
    {
     "name": "stdout",
     "output_type": "stream",
     "text": [
      "AUC: 0.9991032719836401\n"
     ]
    },
    {
     "data": {
      "image/png": "[encoded data removed]",
      "text/plain": [
       "<Figure size 432x432 with 1 Axes>"
      ]
     },
     "metadata": {
      "needs_background": "light"
     },
     "output_type": "display_data"
    }
   ],
   "source": [
    "plot_roc_auc(df_cnn_images_test['label'].values, df_cnn_images_test['fused_scores'].values)"
   ]
  },
  {
   "cell_type": "markdown",
   "metadata": {},
   "source": [
    "# ROC 2) afhq-v2-test vs alias_free_t_afhqv2"
   ]
  },
  {
   "cell_type": "code",
   "execution_count": 21,
   "metadata": {},
   "outputs": [],
   "source": [
    "test_synth_folder = 'alias-free-t-afhqv2-512x512'\n",
    "test_real_folder = 'afhq-v2-test'"
   ]
  },
  {
   "cell_type": "code",
   "execution_count": 22,
   "metadata": {},
   "outputs": [],
   "source": [
    "df_cnn_images_test_synth = df_cnn_images_fus[df_cnn_images_fus['image'].str.contains(test_synth_folder)] \n",
    "df_cnn_images_test_real = df_cnn_images_fus[df_cnn_images_fus['image'].str.contains(test_real_folder)]\n",
    "df_cnn_images_test = pd.concat([df_cnn_images_test_synth, df_cnn_images_test_real]).reset_index().drop('index', axis=1)\n",
    "df_cnn_images_test_2 = df_cnn_images_test.copy()"
   ]
  },
  {
   "cell_type": "code",
   "execution_count": 23,
   "metadata": {},
   "outputs": [
    {
     "name": "stdout",
     "output_type": "stream",
     "text": [
      "AUC: 0.9999360599863667\n"
     ]
    },
    {
     "data": {
      "image/png": "[encoded data removed]",
      "text/plain": [
       "<Figure size 432x432 with 1 Axes>"
      ]
     },
     "metadata": {
      "needs_background": "light"
     },
     "output_type": "display_data"
    }
   ],
   "source": [
    "plot_roc_auc(df_cnn_images_test['label'].values, df_cnn_images_test['fused_scores'].values)"
   ]
  },
  {
   "cell_type": "markdown",
   "metadata": {},
   "source": [
    "# ROC 3) Metfaces-in-the-wild-test vs alias_free_r_metfacesu"
   ]
  },
  {
   "cell_type": "code",
   "execution_count": 24,
   "metadata": {},
   "outputs": [],
   "source": [
    "test_synth_folder = 'alias-free-r-metfacesu-1024x1024'\n",
    "test_real_folder = 'Metfaces-in-the-wild-test'"
   ]
  },
  {
   "cell_type": "code",
   "execution_count": 25,
   "metadata": {},
   "outputs": [],
   "source": [
    "df_cnn_images_test_synth = df_cnn_images_fus[df_cnn_images_fus['image'].str.contains(test_synth_folder)] \n",
    "df_cnn_images_test_real = df_cnn_images_fus[df_cnn_images_fus['image'].str.contains(test_real_folder)]  \n",
    "df_cnn_images_test = pd.concat([df_cnn_images_test_synth, df_cnn_images_test_real]).reset_index().drop('index', axis=1)\n",
    "df_cnn_images_test_3 = df_cnn_images_test.copy()"
   ]
  },
  {
   "cell_type": "code",
   "execution_count": 26,
   "metadata": {},
   "outputs": [
    {
     "name": "stdout",
     "output_type": "stream",
     "text": [
      "AUC: 0.9919059375000001\n"
     ]
    },
    {
     "data": {
      "image/png": "[encoded data removed]",
      "text/plain": [
       "<Figure size 432x432 with 1 Axes>"
      ]
     },
     "metadata": {
      "needs_background": "light"
     },
     "output_type": "display_data"
    }
   ],
   "source": [
    "plot_roc_auc(df_cnn_images_test['label'].values, df_cnn_images_test['fused_scores'].values)"
   ]
  },
  {
   "cell_type": "markdown",
   "metadata": {},
   "source": [
    "# ROC 4) Metfaces-in-the-wild-test vs alias_free_t_metfacesu"
   ]
  },
  {
   "cell_type": "code",
   "execution_count": 27,
   "metadata": {},
   "outputs": [],
   "source": [
    "test_synth_folder = 'alias-free-t-metfacesu-1024x1024'\n",
    "test_real_folder = 'Metfaces-in-the-wild-test'"
   ]
  },
  {
   "cell_type": "code",
   "execution_count": 28,
   "metadata": {},
   "outputs": [],
   "source": [
    "df_cnn_images_test_synth = df_cnn_images_fus[df_cnn_images_fus['image'].str.contains(test_synth_folder)] \n",
    "df_cnn_images_test_real = df_cnn_images_fus[df_cnn_images_fus['image'].str.contains(test_real_folder)]  \n",
    "df_cnn_images_test = pd.concat([df_cnn_images_test_synth, df_cnn_images_test_real]).reset_index().drop('index', axis=1)\n",
    "df_cnn_images_test_4 = df_cnn_images_test.copy()"
   ]
  },
  {
   "cell_type": "code",
   "execution_count": 29,
   "metadata": {},
   "outputs": [
    {
     "name": "stdout",
     "output_type": "stream",
     "text": [
      "AUC: 0.9964493749999999\n"
     ]
    },
    {
     "data": {
      "image/png": "[encoded data removed]",
      "text/plain": [
       "<Figure size 432x432 with 1 Axes>"
      ]
     },
     "metadata": {
      "needs_background": "light"
     },
     "output_type": "display_data"
    }
   ],
   "source": [
    "plot_roc_auc(df_cnn_images_test['label'].values, df_cnn_images_test['fused_scores'].values)"
   ]
  },
  {
   "cell_type": "markdown",
   "metadata": {},
   "source": [
    "# ROC 5) FFHQ-in-the-wild-20k vs alias_free_r_no_compression"
   ]
  },
  {
   "cell_type": "code",
   "execution_count": 30,
   "metadata": {},
   "outputs": [],
   "source": [
    "test_synth_folder = 'generated-ours-r-ffhq-u-8324-2-24400'\n",
    "test_real_folder = 'FFHQ-in-the-wild-20k'"
   ]
  },
  {
   "cell_type": "code",
   "execution_count": 31,
   "metadata": {},
   "outputs": [],
   "source": [
    "df_cnn_images_test_synth = df_cnn_images_fus[df_cnn_images_fus['image'].str.contains(test_synth_folder)] \n",
    "df_cnn_images_test_real = df_cnn_images_fus[df_cnn_images_fus['image'].str.contains(test_real_folder)]  \n",
    "df_cnn_images_test = pd.concat([df_cnn_images_test_synth, df_cnn_images_test_real]).reset_index().drop('index', axis=1)\n",
    "df_cnn_images_test_5 = df_cnn_images_test.copy()"
   ]
  },
  {
   "cell_type": "code",
   "execution_count": 32,
   "metadata": {},
   "outputs": [
    {
     "name": "stdout",
     "output_type": "stream",
     "text": [
      "AUC: 0.99999998\n"
     ]
    },
    {
     "data": {
      "image/png": "[encoded data removed]",
      "text/plain": [
       "<Figure size 432x432 with 1 Axes>"
      ]
     },
     "metadata": {
      "needs_background": "light"
     },
     "output_type": "display_data"
    }
   ],
   "source": [
    "plot_roc_auc(df_cnn_images_test['label'].values, df_cnn_images_test['fused_scores'].values)"
   ]
  },
  {
   "cell_type": "markdown",
   "metadata": {},
   "source": [
    "# ROC 6) FFHQ-in-the-wild-20k vs alias_free_t_no_compression"
   ]
  },
  {
   "cell_type": "code",
   "execution_count": 33,
   "metadata": {},
   "outputs": [],
   "source": [
    "test_synth_folder = 'generated-ours-t-ffhq-u-8325-4-25000'\n",
    "test_real_folder = 'FFHQ-in-the-wild-20k'"
   ]
  },
  {
   "cell_type": "code",
   "execution_count": 34,
   "metadata": {},
   "outputs": [],
   "source": [
    "df_cnn_images_test_synth = df_cnn_images_fus[df_cnn_images_fus['image'].str.contains(test_synth_folder)] \n",
    "df_cnn_images_test_real = df_cnn_images_fus[df_cnn_images_fus['image'].str.contains(test_real_folder)]   \n",
    "df_cnn_images_test = pd.concat([df_cnn_images_test_synth, df_cnn_images_test_real]).reset_index().drop('index', axis=1)\n",
    "df_cnn_images_test_6 = df_cnn_images_test.copy()"
   ]
  },
  {
   "cell_type": "code",
   "execution_count": 35,
   "metadata": {},
   "outputs": [
    {
     "name": "stdout",
     "output_type": "stream",
     "text": [
      "AUC: 0.9999986750000001\n"
     ]
    },
    {
     "data": {
      "image/png": "[encoded data removed]",
      "text/plain": [
       "<Figure size 432x432 with 1 Axes>"
      ]
     },
     "metadata": {
      "needs_background": "light"
     },
     "output_type": "display_data"
    }
   ],
   "source": [
    "plot_roc_auc(df_cnn_images_test['label'].values, df_cnn_images_test['fused_scores'].values)"
   ]
  },
  {
   "cell_type": "markdown",
   "metadata": {},
   "source": [
    "# ROC 7) FFHQ-in-the-wild-20k vs alias_free_r_compression"
   ]
  },
  {
   "cell_type": "code",
   "execution_count": 36,
   "metadata": {},
   "outputs": [],
   "source": [
    "test_synth_folder = 'config-r'\n",
    "test_real_folder = 'FFHQ-in-the-wild-20k'"
   ]
  },
  {
   "cell_type": "code",
   "execution_count": 37,
   "metadata": {},
   "outputs": [],
   "source": [
    "df_cnn_images_test_synth = df_cnn_images_fus[df_cnn_images_fus['image'].str.contains(test_synth_folder)] \n",
    "df_cnn_images_test_real = df_cnn_images_fus[df_cnn_images_fus['image'].str.contains(test_real_folder)]  \n",
    "df_cnn_images_test = pd.concat([df_cnn_images_test_synth, df_cnn_images_test_real]).reset_index().drop('index', axis=1)\n",
    "df_cnn_images_test_7 = df_cnn_images_test.copy()"
   ]
  },
  {
   "cell_type": "code",
   "execution_count": 38,
   "metadata": {},
   "outputs": [
    {
     "name": "stdout",
     "output_type": "stream",
     "text": [
      "AUC: 0.9995815349999999\n"
     ]
    },
    {
     "data": {
      "image/png": "[encoded data removed]",
      "text/plain": [
       "<Figure size 432x432 with 1 Axes>"
      ]
     },
     "metadata": {
      "needs_background": "light"
     },
     "output_type": "display_data"
    }
   ],
   "source": [
    "plot_roc_auc(df_cnn_images_test['label'].values, df_cnn_images_test['fused_scores'].values)"
   ]
  },
  {
   "cell_type": "markdown",
   "metadata": {},
   "source": [
    "# ROC 8) FFHQ-in-the-wild-20k vs alias_free_t_compression"
   ]
  },
  {
   "cell_type": "code",
   "execution_count": 39,
   "metadata": {},
   "outputs": [],
   "source": [
    "test_synth_folder = 'config-t'\n",
    "test_real_folder = 'FFHQ-in-the-wild-20k'"
   ]
  },
  {
   "cell_type": "code",
   "execution_count": 40,
   "metadata": {},
   "outputs": [],
   "source": [
    "df_cnn_images_test_synth = df_cnn_images_fus[df_cnn_images_fus['image'].str.contains(test_synth_folder)] \n",
    "df_cnn_images_test_real = df_cnn_images_fus[df_cnn_images_fus['image'].str.contains(test_real_folder)]  \n",
    "df_cnn_images_test = pd.concat([df_cnn_images_test_synth, df_cnn_images_test_real]).reset_index().drop('index', axis=1)\n",
    "df_cnn_images_test_8 = df_cnn_images_test.copy()"
   ]
  },
  {
   "cell_type": "code",
   "execution_count": 41,
   "metadata": {},
   "outputs": [
    {
     "name": "stdout",
     "output_type": "stream",
     "text": [
      "AUC: 0.9995660525000001\n"
     ]
    },
    {
     "data": {
      "image/png": "[encoded data removed]",
      "text/plain": [
       "<Figure size 432x432 with 1 Axes>"
      ]
     },
     "metadata": {
      "needs_background": "light"
     },
     "output_type": "display_data"
    }
   ],
   "source": [
    "plot_roc_auc(df_cnn_images_test['label'].values, df_cnn_images_test['fused_scores'].values)"
   ]
  },
  {
   "cell_type": "markdown",
   "metadata": {},
   "source": [
    "# ROC 9) Global"
   ]
  },
  {
   "cell_type": "code",
   "execution_count": 42,
   "metadata": {},
   "outputs": [
    {
     "name": "stdout",
     "output_type": "stream",
     "text": [
      "AUC: 0.9995606906259085\n"
     ]
    },
    {
     "data": {
      "image/png": "[encoded data removed]",
      "text/plain": [
       "<Figure size 432x432 with 1 Axes>"
      ]
     },
     "metadata": {
      "needs_background": "light"
     },
     "output_type": "display_data"
    }
   ],
   "source": [
    "plot_roc_auc(df_cnn_images_fus['label'].values, df_cnn_images_fus['fused_scores'].values)"
   ]
  },
  {
   "cell_type": "markdown",
   "metadata": {},
   "source": [
    "# ROC Global + ROCs 1:8 zoomed in top-left corner"
   ]
  },
  {
   "cell_type": "code",
   "execution_count": 43,
   "metadata": {},
   "outputs": [
    {
     "data": {
      "image/png": "[encoded data removed]",
      "text/plain": [
       "<Figure size 648x648 with 1 Axes>"
      ]
     },
     "metadata": {
      "needs_background": "light"
     },
     "output_type": "display_data"
    }
   ],
   "source": [
    "plt.figure(figsize=(9,9))\n",
    "ax = plt.gca()\n",
    "plt.xlabel('$\\mathrm{FPR}$')\n",
    "plt.ylabel('$\\mathrm{TPR}$')\n",
    "plt.xlim(-0.01, 1.01);\n",
    "plt.ylim(-0.01, 1.01);\n",
    "\n",
    "plt.grid();\n",
    "\n",
    "auc = roc_auc_score(df_cnn_images_test_1['label'].values, df_cnn_images_test_1['fused_scores'].values)\n",
    "fpr, tpr, thr = roc_curve(df_cnn_images_test_1['label'].values, df_cnn_images_test_1['fused_scores'].values)\n",
    "ax.plot(fpr, tpr, label=f\"1) AFHQ2 vs StyleGAN3-r-AFHQ2, AUC: {str(auc)[:6]}\")\n",
    "\n",
    "auc = roc_auc_score(df_cnn_images_test_2['label'].values, df_cnn_images_test_2['fused_scores'].values)\n",
    "fpr, tpr, thr = roc_curve(df_cnn_images_test_2['label'].values, df_cnn_images_test_2['fused_scores'].values)\n",
    "ax.plot(fpr, tpr, label=f\"2) AFHQ2 vs StyleGAN3-t-AFHQ2, AUC: {str(auc)[:6]}\")\n",
    "\n",
    "auc = roc_auc_score(df_cnn_images_test_3['label'].values, df_cnn_images_test_3['fused_scores'].values)\n",
    "fpr, tpr, thr = roc_curve(df_cnn_images_test_3['label'].values, df_cnn_images_test_3['fused_scores'].values)\n",
    "ax.plot(fpr, tpr, label=f\"3) Metfaces vs StyleGAN3-r-Metfaces, AUC: {str(auc)[:6]}\")\n",
    "\n",
    "auc = roc_auc_score(df_cnn_images_test_4['label'].values, df_cnn_images_test_4['fused_scores'].values)\n",
    "fpr, tpr, thr = roc_curve(df_cnn_images_test_4['label'].values, df_cnn_images_test_4['fused_scores'].values)\n",
    "ax.plot(fpr, tpr, label=f\"4) Metfaces vs StyleGAN3-t-Metfaces, AUC: {str(auc)[:6]}\")\n",
    "\n",
    "auc = roc_auc_score(df_cnn_images_test_5['label'].values, df_cnn_images_test_5['fused_scores'].values)\n",
    "fpr, tpr, thr = roc_curve(df_cnn_images_test_5['label'].values, df_cnn_images_test_5['fused_scores'].values)\n",
    "ax.plot(fpr, tpr, label=f\"5) FFHQ vs StyleGAN3-r-FFHQ-no-comp, AUC: {str(auc)[:6]}\")\n",
    "\n",
    "auc = roc_auc_score(df_cnn_images_test_6['label'].values, df_cnn_images_test_6['fused_scores'].values)\n",
    "fpr, tpr, thr = roc_curve(df_cnn_images_test_6['label'].values, df_cnn_images_test_6['fused_scores'].values)\n",
    "ax.plot(fpr, tpr, label=f\"6) FFHQ vs StyleGAN3-t-FFHQ-no-comp, AUC: {str(auc)[:6]}\")\n",
    "\n",
    "auc = roc_auc_score(df_cnn_images_test_7['label'].values, df_cnn_images_test_7['fused_scores'].values)\n",
    "fpr, tpr, thr = roc_curve(df_cnn_images_test_7['label'].values, df_cnn_images_test_7['fused_scores'].values)\n",
    "ax.plot(fpr, tpr, label=f\"7) FFHQ vs StyleGAN3-r-FFHQ-comp, AUC: {str(auc)[:6]}\")\n",
    "\n",
    "auc = roc_auc_score(df_cnn_images_test_8['label'].values, df_cnn_images_test_8['fused_scores'].values)\n",
    "fpr, tpr, thr = roc_curve(df_cnn_images_test_8['label'].values, df_cnn_images_test_8['fused_scores'].values)\n",
    "ax.plot(fpr, tpr, label=f\"8) FFHQ vs StyleGAN3-t-FFHQ-comp, AUC: {str(auc)[:6]}\")\n",
    "\n",
    "auc = roc_auc_score(df_cnn_images_fus['label'].values, df_cnn_images_fus['fused_scores'].values)\n",
    "fpr, tpr, thr = roc_curve(df_cnn_images_fus['label'].values, df_cnn_images_fus['fused_scores'].values)\n",
    "ax.plot(fpr, tpr, label=f\"9) Global, AUC: {str(auc)[:6]}\")\n",
    "\n",
    "plt.legend(loc='lower right');\n",
    "\n",
    "# figure_name = 'ROC_global_1-8'\n",
    "# figure_path = '{}.pdf'.format(figure_name)\n",
    "# plt.savefig(figure_path,bbox_inches='tight')"
   ]
  },
  {
   "cell_type": "code",
   "execution_count": 45,
   "metadata": {},
   "outputs": [
    {
     "data": {
      "image/png": "[encoded data removed]",
      "text/plain": [
       "<Figure size 432x237.6 with 1 Axes>"
      ]
     },
     "metadata": {
      "needs_background": "light"
     },
     "output_type": "display_data"
    }
   ],
   "source": [
    "plt.figure(figsize=(6, 3.3))\n",
    "ax = plt.gca()\n",
    "#plt.xlabel('$\\mathrm{FPR}$')\n",
    "#plt.ylabel('$\\mathrm{TPR}$')\n",
    "\n",
    "plt.xlim(-0.005, 0.2);\n",
    "plt.ylim(0.88, 1.005);\n",
    "\n",
    "plt.grid();\n",
    "\n",
    "auc = roc_auc_score(df_cnn_images_test_1['label'].values, df_cnn_images_test_1['fused_scores'].values)\n",
    "fpr, tpr, thr = roc_curve(df_cnn_images_test_1['label'].values, df_cnn_images_test_1['fused_scores'].values)\n",
    "ax.plot(fpr, tpr, label=f\"1) AFHQ2 vs StyleGAN3-r-AFHQ', AUC: {auc:.3f}\")\n",
    "\n",
    "auc = roc_auc_score(df_cnn_images_test_2['label'].values, df_cnn_images_test_2['fused_scores'].values)\n",
    "fpr, tpr, thr = roc_curve(df_cnn_images_test_2['label'].values, df_cnn_images_test_2['fused_scores'].values)\n",
    "ax.plot(fpr, tpr, label=f\"2) AFHQ2 vs StyleGAN3-t-AFHQ', AUC: {auc:.3f}\")\n",
    "\n",
    "auc = roc_auc_score(df_cnn_images_test_3['label'].values, df_cnn_images_test_3['fused_scores'].values)\n",
    "fpr, tpr, thr = roc_curve(df_cnn_images_test_3['label'].values, df_cnn_images_test_3['fused_scores'].values)\n",
    "ax.plot(fpr, tpr, label=f\"3) Metfaces vs StyleGAN3-r-Metfaces', AUC: {auc:.3f}\")\n",
    "\n",
    "auc = roc_auc_score(df_cnn_images_test_4['label'].values, df_cnn_images_test_4['fused_scores'].values)\n",
    "fpr, tpr, thr = roc_curve(df_cnn_images_test_4['label'].values, df_cnn_images_test_4['fused_scores'].values)\n",
    "ax.plot(fpr, tpr, label=f\"4) Metfaces vs StyleGAN3-t-Metfaces', AUC: {auc:.3f}\")\n",
    "\n",
    "auc = roc_auc_score(df_cnn_images_test_5['label'].values, df_cnn_images_test_5['fused_scores'].values)\n",
    "fpr, tpr, thr = roc_curve(df_cnn_images_test_5['label'].values, df_cnn_images_test_5['fused_scores'].values)\n",
    "ax.plot(fpr, tpr, label=f\"5) FFHQ vs StyleGAN3-r-FFHQ-no-comp', AUC: {auc:.3f}\")\n",
    "\n",
    "auc = roc_auc_score(df_cnn_images_test_6['label'].values, df_cnn_images_test_6['fused_scores'].values)\n",
    "fpr, tpr, thr = roc_curve(df_cnn_images_test_6['label'].values, df_cnn_images_test_6['fused_scores'].values)\n",
    "ax.plot(fpr, tpr, label=f\"6) FFHQ vs StyleGAN3-t-FFHQ-no-comp', AUC: {auc:.3f}\")\n",
    "\n",
    "auc = roc_auc_score(df_cnn_images_test_7['label'].values, df_cnn_images_test_7['fused_scores'].values)\n",
    "fpr, tpr, thr = roc_curve(df_cnn_images_test_7['label'].values, df_cnn_images_test_7['fused_scores'].values)\n",
    "ax.plot(fpr, tpr, label=f\"7) FFHQ vs StyleGAN3-r-FFHQ-comp', AUC: {auc:.3f}\")\n",
    "\n",
    "auc = roc_auc_score(df_cnn_images_test_8['label'].values, df_cnn_images_test_8['fused_scores'].values)\n",
    "fpr, tpr, thr = roc_curve(df_cnn_images_test_8['label'].values, df_cnn_images_test_8['fused_scores'].values)\n",
    "ax.plot(fpr, tpr, label=f\"8) FFHQ vs StyleGAN3-t-FFHQ-comp', AUC: {auc:.3f}\")\n",
    "\n",
    "auc = roc_auc_score(df_cnn_images_fus['label'].values, df_cnn_images_fus['fused_scores'].values)\n",
    "fpr, tpr, thr = roc_curve(df_cnn_images_fus['label'].values, df_cnn_images_fus['fused_scores'].values)\n",
    "ax.plot(fpr, tpr, label=f\"9) Global, AUC: {auc:.3f}\");\n",
    "\n",
    "# figure_name = 'zoom_ROC_global_1-8'\n",
    "# figure_path = '{}.pdf'.format(figure_name)\n",
    "# plt.savefig(figure_path,bbox_inches='tight')"
   ]
  },
  {
   "cell_type": "code",
   "execution_count": null,
   "metadata": {},
   "outputs": [],
   "source": []
  }
 ],
 "metadata": {
  "kernelspec": {
   "display_name": "Python 3",
   "language": "python",
   "name": "python3"
  },
  "language_info": {
   "codemirror_mode": {
    "name": "ipython",
    "version": 3
   },
   "file_extension": ".py",
   "mimetype": "text/x-python",
   "name": "python",
   "nbconvert_exporter": "python",
   "pygments_lexer": "ipython3",
   "version": "3.7.4"
  }
 },
 "nbformat": 4,
 "nbformat_minor": 4
}
